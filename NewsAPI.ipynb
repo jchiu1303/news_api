{
 "cells": [
  {
   "cell_type": "markdown",
   "metadata": {},
   "source": [
    "### Code to Extract Title, Description, and URL from API"
   ]
  },
  {
   "cell_type": "code",
   "execution_count": 1,
   "metadata": {},
   "outputs": [
    {
     "name": "stdout",
     "output_type": "stream",
     "text": [
      "Wall time: 17.8 s\n"
     ]
    }
   ],
   "source": [
    "import os\n",
    "import requests\n",
    "import pandas as pd\n",
    "import numpy as np\n",
    "import datetime\n",
    "from nltk.tag import StanfordNERTagger\n",
    "\n",
    "import string\n",
    "from nltk.corpus import stopwords\n",
    "\n",
    "from sklearn.feature_extraction.text import TfidfVectorizer\n",
    "from sklearn.metrics.pairwise import cosine_similarity\n",
    "\n",
    "# import sys # import \n",
    "# !{sys.executable} -m pip install polyglot\n",
    "# nltk.download('words')"
   ]
  },
  {
   "cell_type": "code",
   "execution_count": 2,
   "metadata": {},
   "outputs": [],
   "source": [
    "news = [\n",
    "        'bloomberg', 'reuters', 'financial-times',\n",
    "        'the-economist', 'the-wall-street-journal', 'cnbc',\n",
    "        'financial-post', 'business-insider', 'australian-financial-review',\n",
    "        'google-news', 'fortune', 'bbc-news',\n",
    "        ]"
   ]
  },
  {
   "cell_type": "code",
   "execution_count": 3,
   "metadata": {},
   "outputs": [
    {
     "name": "stdout",
     "output_type": "stream",
     "text": [
      "Wall time: 21.3 s\n"
     ]
    }
   ],
   "source": [
    "%%time\n",
    "\n",
    "news_d = {}\n",
    "\n",
    "for i in news:\n",
    "    \n",
    "    \"\"\"\n",
    "    Reads in the API request of the top headlines to clean the JSON data to only return the source, title, and description\n",
    "    \"\"\"\n",
    "    \n",
    "    url = ('https://newsapi.org/v2/top-headlines?'\n",
    "           'sources=' + i + '&'\n",
    "           'apiKey=ddcb36b8f0d645b0acd4a54ef804a9fe')\n",
    "    \n",
    "    response = requests.get(url)\n",
    "    \n",
    "    news_d[i] = []\n",
    "    \n",
    "    for x in range(0, len(response.json()['articles'])):\n",
    "        article_title = response.json()['articles'][x]['title']\n",
    "        article_description = response.json()['articles'][x]['description']\n",
    "        \n",
    "        news_d[i].append({'title': article_title, 'description': article_description})"
   ]
  },
  {
   "cell_type": "code",
   "execution_count": 4,
   "metadata": {},
   "outputs": [
    {
     "name": "stdout",
     "output_type": "stream",
     "text": [
      "Wall time: 0 ns\n"
     ]
    }
   ],
   "source": [
    "def create_d(dictionary):\n",
    "    source_list = [] \n",
    "    title_list = []\n",
    "    description_list = []\n",
    "    \n",
    "    \"\"\"\n",
    "    Takes in the cleaned news dictionary to turn it into an acceptable format for pandas.\n",
    "    1. Check if there are any news articles for that selected news site.\n",
    "    2. Appends the source (e.g. bloomberg) then the article's title and description to the above list\n",
    "    \"\"\"\n",
    "\n",
    "    for i in news_d:\n",
    "        if bool(news_d[i]):\n",
    "            \n",
    "            for x in range(0, len(news_d[i])):\n",
    "                source_list.append(i)\n",
    "                title_list.append(news_d[i][x]['title'])\n",
    "                description_list.append(news_d[i][x]['description'])\n",
    "    \n",
    "    d = {'source': source_list,\n",
    "         'title': title_list,\n",
    "         'description': description_list,\n",
    "        }\n",
    "    \n",
    "    return d"
   ]
  },
  {
   "cell_type": "code",
   "execution_count": 5,
   "metadata": {},
   "outputs": [
    {
     "name": "stdout",
     "output_type": "stream",
     "text": [
      "Wall time: 4 ms\n"
     ]
    }
   ],
   "source": [
    "data = create_d(news_d)\n",
    "df = pd.DataFrame(data=data)\n",
    "df = df[['source', 'title', 'description']]"
   ]
  },
  {
   "cell_type": "markdown",
   "metadata": {},
   "source": [
    "## AI Attempt\n",
    "\n",
    "Reference to the following blog:\n",
    "http://blog.chartbeat.com/2015/10/22/identifying-and-clustering-news-events-by-content/\n",
    "\n",
    "And also reference to Jose Portilla's Natural Language Processing course in his Python for Data Science and Machine Learning Bootcamp Course on Udemy:\n",
    "https://www.udemy.com/python-for-data-science-and-machine-learning-bootcamp/"
   ]
  },
  {
   "cell_type": "code",
   "execution_count": 8,
   "metadata": {},
   "outputs": [
    {
     "name": "stdout",
     "output_type": "stream",
     "text": [
      "Wall time: 0 ns\n"
     ]
    }
   ],
   "source": [
    "def text_process(mess):\n",
    "    \"\"\"\n",
    "    Takes in a string of text, then performs the following:\n",
    "    1. Remove all punctuation\n",
    "    2. Remove all stopwords\n",
    "    3. Returns a list of the cleaned text\n",
    "    \"\"\"\n",
    "    \n",
    "    # Check if the cell has characters inside\n",
    "    if mess is not None:\n",
    "\n",
    "        # Check characters to see if they are in punctuation\n",
    "        nohyph = mess.replace('-', ' ')\n",
    "        nopunc = nohyph.replace(\"’s\", ' ')\n",
    "        nopunc = nopunc.replace(\"’\", ' ')\n",
    "        nopunc = nopunc.replace(\"‘\", ' ')\n",
    "        nopunc = [char for char in nopunc if char not in string.punctuation]\n",
    "        \n",
    "\n",
    "\n",
    "        # Join the characters again to form the string.\n",
    "        nopunc = ''.join(nopunc)\n",
    "\n",
    "        # Now just remove any stopwords\n",
    "        word_list = [word for word in nopunc.split() if word.lower() not in stopwords.words('english')]\n",
    "        \n",
    "        return ' '.join(word_list)"
   ]
  },
  {
   "cell_type": "markdown",
   "metadata": {},
   "source": [
    "## TF-IDF"
   ]
  },
  {
   "cell_type": "code",
   "execution_count": 10,
   "metadata": {},
   "outputs": [
    {
     "name": "stdout",
     "output_type": "stream",
     "text": [
      "Wall time: 4.48 s\n"
     ]
    }
   ],
   "source": [
    "df['details'] = df['title'].astype(str) + ' ' + df['description'].astype(str)\n",
    "# df['details'] = df['title'].astype(str)\n",
    "df['details'] = df['details'].apply(text_process)"
   ]
  },
  {
   "cell_type": "code",
   "execution_count": 11,
   "metadata": {},
   "outputs": [
    {
     "name": "stdout",
     "output_type": "stream",
     "text": [
      "Wall time: 84 ms\n"
     ]
    }
   ],
   "source": [
    "vectorizer = TfidfVectorizer(stop_words='english')\n",
    "X = vectorizer.fit_transform(df['details'])"
   ]
  },
  {
   "cell_type": "code",
   "execution_count": 12,
   "metadata": {},
   "outputs": [
    {
     "name": "stdout",
     "output_type": "stream",
     "text": [
      "Wall time: 13 ms\n"
     ]
    }
   ],
   "source": [
    "parameter = 0.2\n",
    "\n",
    "sim = cosine_similarity(X)\n",
    "sim_matrix = pd.DataFrame(sim, columns = list(df['title']), index = list(df['title']))\n",
    "sim_matrix[sim_matrix >= parameter] = 1\n",
    "sim_matrix[sim_matrix < parameter] = 0\n",
    "sim_matrix = sim_matrix.reset_index()"
   ]
  },
  {
   "cell_type": "code",
   "execution_count": 13,
   "metadata": {},
   "outputs": [
    {
     "name": "stdout",
     "output_type": "stream",
     "text": [
      "Wall time: 663 ms\n"
     ]
    }
   ],
   "source": [
    "clusters = []\n",
    "\n",
    "while len(sim_matrix) > 0:\n",
    "    summation = list(sim_matrix.sum(axis=1))\n",
    "    ind = summation.index(max(summation))\n",
    "\n",
    "    titles = list(sim_matrix.columns[(sim_matrix == 1).iloc[ind]])\n",
    "    index_title = sim_matrix['index'][ind]\n",
    "    titles.append(index_title)\n",
    "    titles = list(set(titles))\n",
    "    clusters.append(titles)\n",
    "\n",
    "    sim_matrix = sim_matrix.drop(titles, axis=1)\n",
    "    for title in titles:\n",
    "        sim_matrix = sim_matrix[sim_matrix['index'] != title]\n",
    "\n",
    "    sim_matrix = sim_matrix.reset_index(drop=True)"
   ]
  },
  {
   "cell_type": "code",
   "execution_count": 14,
   "metadata": {},
   "outputs": [
    {
     "data": {
      "text/plain": [
       "[[\"Trump claims NATO victory after 'go it alone' ultimatum\",\n",
       "  'Trump claims Nato allies have agreed to spending rise',\n",
       "  'Trump’s claim that NATO will boost defense spending disputed',\n",
       "  'Trump Makes Final Rounds at NATO Summit After Sharp Criticisms and Demands',\n",
       "  'Trump’s Complaints About NATO Defense Spending Don’t Add Up',\n",
       "  'Trump says NATO nations make major new defense spending commitments after he upends summit',\n",
       "  'Trump Gives Last-Minute NATO Backing After Sowing Summit Discord',\n",
       "  \"United States '100 percent committed to NATO', Mattis says after summit\",\n",
       "  'Nato states to up defence spending - Trump'],\n",
       " ['Apple just launched new MacBook Pro laptops — and they have a updated keyboard',\n",
       "  'Apple Debuts Upgraded Pro Laptops Ahead of Fall Product Blitz',\n",
       "  'Apple just updated its MacBook Pro with new processors and better keyboards',\n",
       "  'Apple’s most expensive MacBook Pro now costs $6,700'],\n",
       " ['Latest as Trump due to arrive in UK',\n",
       "  'Latest as Trump begins his UK visit',\n",
       "  \"UK protests to greet Trump's 'state visit on the sly'\",\n",
       "  \"UK-bound Trump 'fine' with protests\"],\n",
       " ['FBI’s Strzok Faults Hearing as ‘Victory Notch in Putin’s Belt’',\n",
       "  'FBI’s Peter Strzok to Break His Silence',\n",
       "  'F.B.I. Agent at Center of Russia Probe Turns Tables on G.O.P.'],\n",
       " ['Sky shares leap as Comcast and Fox lock horns in bid battle',\n",
       "  'Some of the biggest names in dealmaking in New York and London are duking it out as part of the Comcast-Fox-Sky bidding war',\n",
       "  'Fox Gets U.K. Approval to Buy Sky Amid Bidding War With Comcast'],\n",
       " ['Emmett Till’s case has been reopened. His brutal death in 1955 put a spotlight on racial violence.',\n",
       "  \"U.S. reopens 1955 case on black teen Emmett Till's murder\",\n",
       "  'U.S. Reopens Probe Into 1955 Killing of Emmett Till'],\n",
       " ['Stormy Daniels Arrested at Ohio Strip Club for Touching Undercover Officers',\n",
       "  'Stormy Daniels Arrested in Ohio While Performing on Stage',\n",
       "  'Stormy Daniels arrested in Ohio - lawyer'],\n",
       " [\"Papa John's is surging after founder John Schnatter resigns from board and apologizes for using a racial slur (PZZA)\",\n",
       "  \"Papa John's founder John Schnatter resigns as chairman after apologizing for N-word comment\",\n",
       "  \"Papa John's founder resigns over N-word\"],\n",
       " ['Bank of Canada Goes Back to Basics With Economy Running Hot',\n",
       "  'What the Bank of Canada rate hike means for your mortgage and savings account'],\n",
       " ['Big Money Tests Marijuana Waters, With Hedge Funds Leading Charge',\n",
       "  'Big money tests cannabis waters, with hedge funds leading the charge'],\n",
       " ['Hydro One Faces ‘Ontario Overhang’ After Ford Ousts Board',\n",
       "  'Hydro One shares tumble after utility strikes deal with Doug Ford to replace board, CEO'],\n",
       " [\"China says 'bully' United States started a trade war\",\n",
       "  'Beijing urges U.S. firms in China to lobby Washington over trade war'],\n",
       " ['Wall Street rebounds as technology, industrial stocks rise',\n",
       "  \"Mega-chip stock Broadcom plunges 12% after Wall Street demolishes company's software acquisition strategy\"],\n",
       " ['The drug pricing playbook: how pharma companies keep costs high',\n",
       "  'Trump just claimed a win after striking a deal with Pfizer, but experts are skeptical the move will have any impact on prescription drug costs'],\n",
       " ['Brett Kavanaugh’s Views on Privacy Are Alarmingly Outdated for the Digital Age',\n",
       "  'Senate’s First Skirmish Over Supreme Court Pick Brett Kavanaugh: How Quickly to Move'],\n",
       " ['Tesla factory workers were reportedly offered free Red Bull, walked through raw sewage to meet Model 3 quotas',\n",
       "  'Some Tesla employees were reportedly ordered to walk through raw sewage during Model 3 ramp up'],\n",
       " ['A Speed Race for Soybeans'],\n",
       " ['Brexit Once Inspired Trump. Now It’s a Problem for Him.'],\n",
       " [\"Ryan Says Trump's Trade Policies Put U.S. Economy at Risk\"],\n",
       " ['Toronto’s Rental Frenzy Spurs High-Rise Dog Park, Fleet of Teslas'],\n",
       " ['London mayor says anti-Trump protests must be peaceful'],\n",
       " ['Broadcom loses $19 billion in market value after bid to buy CA'],\n",
       " [\"Trump, after questioning May's Brexit plan, arrives in 'hot spot' Britain\"],\n",
       " ['Rust spots emerge in US manufacturing surge'],\n",
       " ['Theresa May unveils plans for softer Brexit'],\n",
       " ['US antitrust chief signals comfort with tech deals'],\n",
       " ['Trump knows Europe needs America more than America needs Europe'],\n",
       " ['China and the world: how Beijing spreads the message'],\n",
       " ['IEA warns spare oil capacity to be ‘stretched to limit’'],\n",
       " ['Tower of secrets: the Russian money behind a Donald Trump skyscraper'],\n",
       " ['China switches strategy to deal with Trump tariffs'],\n",
       " ['The robots coming for your job'],\n",
       " ['A new Brexit plan creates fresh depths of chaos'],\n",
       " ['The American president lambasts his allies'],\n",
       " ['A British traveller’s travelogue'],\n",
       " ['Deliverance for Thailand’s cave-trapped footballers'],\n",
       " ['Courts slap down the Trump administration’s immigration policies'],\n",
       " ['Are today’s young football stars worse than those before them?'],\n",
       " ['China frees the widow of a Nobel peace-prize winner'],\n",
       " ['Open Future Gender'],\n",
       " ['The special relationship once enriched Britain’s politics. No longer'],\n",
       " ['Chateau Margaux for Seat 2A: Emirates Rewrites Rules for Airlines'],\n",
       " ['Trump Administration Says All Eligible Young Migrant Children Have Been Reunited'],\n",
       " ['U.S. Consumer Prices Increase at Fastest Annual Rate Since 2012'],\n",
       " ['This Time Around, Chinese Consumer Products Would Face Tariffs'],\n",
       " ['NBA Commissioner Silver ‘rooting’ for Disney in the battle against Comcast for Fox'],\n",
       " [\"L Brands tumbles after weak sales at 'broken' brand Victoria's Secret\"],\n",
       " ['Legislative affairs director Marc Short and a key deputy to leave the White House'],\n",
       " [\"Amazon shares hit a record as Canaccord calls it 'the most robust and durable' among the FANG stocks\"],\n",
       " [\"A ‘scarred' generation of investors looking at yield curve all wrong, veteran bull Rich Bernstein says\"],\n",
       " ['Leading e-cig maker Juul to sell lower-nicotine pods as scrutiny ratchets higher'],\n",
       " ['‘A wonderful mutual opportunity’: Michelin buying Canada’s Camso for $1.45 billion'],\n",
       " ['Crude’s bull run made this oilsands producer Canada’s top stock'],\n",
       " ['Porter Airlines introduces lower fares on some flights'],\n",
       " ['McDonald’s Canada to start buying ‘sustainable’ beef for its Angus burgers'],\n",
       " ['Jack Mintz: Canada has already picked a losing strategy for Trump’s trade war'],\n",
       " ['The flattening yield curve has some worried about a recession, but not Poloz'],\n",
       " ['Toronto condo rents skyrocket as supply reaches ‘critically low level’'],\n",
       " ['NATO goes to emergency session after Trump reportedly gets undiplomatic with Merkel'],\n",
       " [\"A bitcoin billionaire is quietly building the world's very first decentralized bank on this tiny, idyllic island\"],\n",
       " ['Netflix has hit a speed bump with original series and movies, and it could spell bad news for investors'],\n",
       " [\"MoviePass says you'll be able to see IMAX movies with your subscription by Labor Day\"],\n",
       " ['What it takes to be a World Cup referee'],\n",
       " [\"Banking royal commission isn't the only fire under NAB chief Andrew Thorburn\"],\n",
       " [\"Martin Parkinson wants PM&C to be liked, not feared. 'That's our ambition'\"],\n",
       " ['Women are taking over the engine room of law firms'],\n",
       " ['Deloitte partners pay set to increase in Asia Pacific model'],\n",
       " ['Huawei linked to major data breach'],\n",
       " [\"Women bosses 'keep control', shun IPOs\"],\n",
       " [\"UBS' George Kanaan recalls email, again\"],\n",
       " ['Three exclusive properties around Australia for sale this week'],\n",
       " ['Viva Energy banks on the network effect'],\n",
       " [\"Kelly O'Dwyer warns of 'IR thuggery' as AustralianSuper faces conflict claims\"],\n",
       " ['Child molester beaten to death by 19-year-old inmate in California prison, officials say'],\n",
       " ['Officer resigns after failure to help woman harassed for wearing Puerto Rico flag shirt'],\n",
       " [\"Why Broadcom's Stock Is Crashing\"],\n",
       " [\"'Glamping' Has Officially Come to New York City\"],\n",
       " [\"Steven Cohen's Venture Capital Firm Gets Into Crypto With New Partner\"],\n",
       " ['Term Sheet - Thursday, July 12'],\n",
       " ['Sprint Follows Rivals By Complicating Its Unlimited Mobile Data Plans'],\n",
       " ['California Beat Its 2020 Emissions Target Four Years Early'],\n",
       " ['The Tie Goes to the Winners'],\n",
       " [\"What's Next For The Rescued Thai Soccer Team?\"],\n",
       " ['Magazine | Fortune'],\n",
       " ['Syrian troops retake cradle of uprising'],\n",
       " ['Mexico quake leads to ancient temple find'],\n",
       " ['Stolen drone files sold on dark web'],\n",
       " [\"Kylie Jenner 'on track to be billionaire'\"]]"
      ]
     },
     "execution_count": 14,
     "metadata": {},
     "output_type": "execute_result"
    }
   ],
   "source": [
    "clusters"
   ]
  },
  {
   "cell_type": "code",
   "execution_count": 15,
   "metadata": {},
   "outputs": [],
   "source": [
    "current_time = datetime.datetime.now().strftime(\"%Y%m%d_%H%M%S\")\n",
    "df.to_csv('data/{}_input-parameter-('.format(current_time) + str(parameter) + ').csv', sep=',', encoding='utf-8', index=False)\n",
    "\n",
    "clusters_df = pd.DataFrame(clusters, columns = range(1, len(clusters[0])+1))\n",
    "clusters_df.to_csv('data/{}_output-parameter-('.format(current_time) + str(parameter) + ').csv', sep=',', encoding='utf-8', index=False)"
   ]
  },
  {
   "cell_type": "code",
   "execution_count": null,
   "metadata": {},
   "outputs": [],
   "source": []
  }
 ],
 "metadata": {
  "kernelspec": {
   "display_name": "Python 3",
   "language": "python",
   "name": "python3"
  },
  "language_info": {
   "codemirror_mode": {
    "name": "ipython",
    "version": 3
   },
   "file_extension": ".py",
   "mimetype": "text/x-python",
   "name": "python",
   "nbconvert_exporter": "python",
   "pygments_lexer": "ipython3",
   "version": "3.6.1"
  }
 },
 "nbformat": 4,
 "nbformat_minor": 2
}
