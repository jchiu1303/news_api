{
 "cells": [
  {
   "cell_type": "markdown",
   "metadata": {},
   "source": [
    "### Code to Extract Title, Description, and URL from API"
   ]
  },
  {
   "cell_type": "code",
   "execution_count": 1,
   "metadata": {},
   "outputs": [
    {
     "name": "stdout",
     "output_type": "stream",
     "text": [
      "Wall time: 34 s\n"
     ]
    }
   ],
   "source": [
    "%%time\n",
    "\n",
    "import os\n",
    "import requests\n",
    "import pandas as pd\n",
    "import numpy as np\n",
    "import datetime\n",
    "from nltk.tag import StanfordNERTagger\n",
    "\n",
    "\n",
    "# import sys # import \n",
    "# !{sys.executable} -m pip install polyglot\n",
    "# nltk.download('words')"
   ]
  },
  {
   "cell_type": "code",
   "execution_count": 2,
   "metadata": {},
   "outputs": [],
   "source": [
    "news = [\n",
    "        'bloomberg', 'reuters', 'financial-times',\n",
    "        'the-economist', 'the-wall-street-journal', 'cnbc',\n",
    "        'financial-post', 'business-insider', 'australian-financial-review',\n",
    "        'google-news', 'fortune', 'bbc-news',\n",
    "        ]"
   ]
  },
  {
   "cell_type": "code",
   "execution_count": 3,
   "metadata": {},
   "outputs": [
    {
     "name": "stdout",
     "output_type": "stream",
     "text": [
      "Wall time: 16.5 s\n"
     ]
    }
   ],
   "source": [
    "%%time\n",
    "\n",
    "news_d = {}\n",
    "\n",
    "for i in news:\n",
    "    \n",
    "    \"\"\"\n",
    "    Reads in the API request of the top headlines to clean the JSON data to only return the source, title, and description\n",
    "    \"\"\"\n",
    "    \n",
    "    url = ('https://newsapi.org/v2/top-headlines?'\n",
    "           'sources=' + i + '&'\n",
    "           'apiKey=ddcb36b8f0d645b0acd4a54ef804a9fe')\n",
    "    \n",
    "    response = requests.get(url)\n",
    "    \n",
    "    news_d[i] = []\n",
    "    \n",
    "    for x in range(0, len(response.json()['articles'])):\n",
    "        article_title = response.json()['articles'][x]['title']\n",
    "        article_description = response.json()['articles'][x]['description']\n",
    "        \n",
    "        news_d[i].append({'title': article_title, 'description': article_description})"
   ]
  },
  {
   "cell_type": "code",
   "execution_count": 4,
   "metadata": {},
   "outputs": [
    {
     "name": "stdout",
     "output_type": "stream",
     "text": [
      "Wall time: 0 ns\n"
     ]
    }
   ],
   "source": [
    "%%time\n",
    "\n",
    "def create_d(dictionary):\n",
    "    source_list = [] \n",
    "    title_list = []\n",
    "    description_list = []\n",
    "    \n",
    "    \"\"\"\n",
    "    Takes in the cleaned news dictionary to turn it into an acceptable format for pandas.\n",
    "    1. Check if there are any news articles for that selected news site.\n",
    "    2. Appends the source (e.g. bloomberg) then the article's title and description to the above list\n",
    "    \"\"\"\n",
    "\n",
    "    for i in news_d:\n",
    "        if bool(news_d[i]):\n",
    "            \n",
    "            for x in range(0, len(news_d[i])):\n",
    "                source_list.append(i)\n",
    "                title_list.append(news_d[i][x]['title'])\n",
    "                description_list.append(news_d[i][x]['description'])\n",
    "    \n",
    "    d = {'source': source_list,\n",
    "         'title': title_list,\n",
    "         'description': description_list,\n",
    "        }\n",
    "    \n",
    "    return d"
   ]
  },
  {
   "cell_type": "code",
   "execution_count": 5,
   "metadata": {},
   "outputs": [
    {
     "name": "stdout",
     "output_type": "stream",
     "text": [
      "Wall time: 2 ms\n"
     ]
    }
   ],
   "source": [
    "%%time\n",
    "\n",
    "data = create_d(news_d)\n",
    "df = pd.DataFrame(data=data)\n",
    "df = df[['source', 'title', 'description']]"
   ]
  },
  {
   "cell_type": "markdown",
   "metadata": {},
   "source": [
    "## AI Attempt\n",
    "\n",
    "Reference to the following blog:\n",
    "http://blog.chartbeat.com/2015/10/22/identifying-and-clustering-news-events-by-content/\n",
    "\n",
    "And also reference to Jose Portilla's Natural Language Processing course in his Python for Data Science and Machine Learning Bootcamp Course on Udemy:\n",
    "https://www.udemy.com/python-for-data-science-and-machine-learning-bootcamp/"
   ]
  },
  {
   "cell_type": "code",
   "execution_count": 6,
   "metadata": {},
   "outputs": [
    {
     "name": "stdout",
     "output_type": "stream",
     "text": [
      "Wall time: 0 ns\n"
     ]
    }
   ],
   "source": [
    "%%time\n",
    "\n",
    "import string\n",
    "from nltk.corpus import stopwords"
   ]
  },
  {
   "cell_type": "code",
   "execution_count": 7,
   "metadata": {},
   "outputs": [
    {
     "name": "stdout",
     "output_type": "stream",
     "text": [
      "Wall time: 0 ns\n"
     ]
    }
   ],
   "source": [
    "%%time\n",
    "\n",
    "def text_process(mess):\n",
    "    \"\"\"\n",
    "    Takes in a string of text, then performs the following:\n",
    "    1. Remove all punctuation\n",
    "    2. Remove all stopwords\n",
    "    3. Returns a list of the cleaned text\n",
    "    \"\"\"\n",
    "    \n",
    "    # Check if the cell has characters inside\n",
    "    if mess is not None:\n",
    "\n",
    "        # Check characters to see if they are in punctuation\n",
    "        nohyph = mess.replace('-', ' ')\n",
    "        nopunc = nohyph.replace(\"’s\", ' ')\n",
    "        nopunc = nopunc.replace(\"’\", ' ')\n",
    "        nopunc = nopunc.replace(\"‘\", ' ')\n",
    "        nopunc = [char for char in nopunc if char not in string.punctuation]\n",
    "        \n",
    "\n",
    "\n",
    "        # Join the characters again to form the string.\n",
    "        nopunc = ''.join(nopunc)\n",
    "\n",
    "        # Now just remove any stopwords\n",
    "        word_list = [word for word in nopunc.split() if word.lower() not in stopwords.words('english')]\n",
    "        \n",
    "        return ' '.join(word_list)"
   ]
  },
  {
   "cell_type": "markdown",
   "metadata": {},
   "source": [
    "## TF-IDF"
   ]
  },
  {
   "cell_type": "code",
   "execution_count": 8,
   "metadata": {},
   "outputs": [
    {
     "name": "stdout",
     "output_type": "stream",
     "text": [
      "Wall time: 0 ns\n"
     ]
    }
   ],
   "source": [
    "%%time\n",
    "\n",
    "from sklearn.feature_extraction.text import TfidfVectorizer\n",
    "from sklearn.metrics.pairwise import cosine_similarity"
   ]
  },
  {
   "cell_type": "code",
   "execution_count": 9,
   "metadata": {},
   "outputs": [
    {
     "name": "stdout",
     "output_type": "stream",
     "text": [
      "Wall time: 1.59 s\n"
     ]
    }
   ],
   "source": [
    "%%time\n",
    "\n",
    "df['details'] = df['title'].astype(str) + ' ' + df['description'].astype(str)\n",
    "# df['details'] = df['title'].astype(str)\n",
    "df['details'] = df['details'].apply(text_process)"
   ]
  },
  {
   "cell_type": "code",
   "execution_count": 10,
   "metadata": {},
   "outputs": [
    {
     "name": "stdout",
     "output_type": "stream",
     "text": [
      "Wall time: 17 ms\n"
     ]
    }
   ],
   "source": [
    "%%time\n",
    "\n",
    "vectorizer = TfidfVectorizer(stop_words='english')\n",
    "X = vectorizer.fit_transform(df['details'])"
   ]
  },
  {
   "cell_type": "code",
   "execution_count": 11,
   "metadata": {},
   "outputs": [
    {
     "name": "stdout",
     "output_type": "stream",
     "text": [
      "Wall time: 9.99 ms\n"
     ]
    }
   ],
   "source": [
    "%%time\n",
    "parameter = 0.18\n",
    "\n",
    "sim = cosine_similarity(X)\n",
    "sim_matrix = pd.DataFrame(sim, columns = list(df['title']), index = list(df['title']))\n",
    "sim_matrix[sim_matrix >= parameter] = 1\n",
    "sim_matrix[sim_matrix < parameter] = 0\n",
    "sim_matrix = sim_matrix.reset_index()"
   ]
  },
  {
   "cell_type": "code",
   "execution_count": 12,
   "metadata": {},
   "outputs": [
    {
     "name": "stdout",
     "output_type": "stream",
     "text": [
      "Wall time: 369 ms\n"
     ]
    }
   ],
   "source": [
    "%%time\n",
    "\n",
    "clusters = []\n",
    "\n",
    "while len(sim_matrix) > 0:\n",
    "    summation = list(sim_matrix.sum(axis=1))\n",
    "    ind = summation.index(max(summation))\n",
    "\n",
    "    titles = list(sim_matrix.columns[(sim_matrix == 1).iloc[ind]])\n",
    "    index_title = sim_matrix['index'][ind]\n",
    "    titles.append(index_title)\n",
    "    titles = list(set(titles))\n",
    "    clusters.append(titles)\n",
    "\n",
    "    sim_matrix = sim_matrix.drop(titles, axis=1)\n",
    "    for title in titles:\n",
    "        sim_matrix = sim_matrix[sim_matrix['index'] != title]\n",
    "\n",
    "    sim_matrix = sim_matrix.reset_index(drop=True)"
   ]
  },
  {
   "cell_type": "code",
   "execution_count": 13,
   "metadata": {},
   "outputs": [
    {
     "data": {
      "text/plain": [
       "[['Who Is Brett Kavanaugh?',\n",
       "  'Trump names Kavanaugh for US Supreme Court',\n",
       "  'Judge Brett Kavanaugh: In His Own Words',\n",
       "  'Trump picks conservative judge Kavanaugh for Supreme Court',\n",
       "  'What you need to know about Trump’s Supreme Court nominee Brett Kavanaugh',\n",
       "  'Donald Trump’s court pick is a Republican stalwart',\n",
       "  'Trump nominates Brett Kavanaugh to replace the retiring Justice Anthony Kennedy on the Supreme Court',\n",
       "  'Trump nominates conservative Kavanaugh to Supreme Court',\n",
       "  'Trump picks Brett Kavanaugh for the Supreme Court: NBC News',\n",
       "  'President Trump Chooses Brett Kavanaugh for Supreme Court Vacancy',\n",
       "  'Kavanaugh paper chase threatens to draw out confirmation battle',\n",
       "  'Supreme Court nominee has been a foe of emissions rules',\n",
       "  'Washington insider Kavanaugh boasts conservative credentials',\n",
       "  'Will Trump get a third supreme court pick?',\n",
       "  'Trump Nominates Brett \\xadKavanaugh for the U.S. Supreme Court',\n",
       "  'Trump’s Pick Brett Kavanaugh to Keep Republican-Appointed Majority on Supreme Court, 48 Years Running',\n",
       "  'Outside Groups Plan Costly Campaigns For—or Against—Supreme Court Nominee Brett Kavanaugh',\n",
       "  'Trump invited these red-state Democrats to his Supreme Court announcement. They all said no',\n",
       "  \"Brett Kavanaugh, Trump's Potential Supreme Court Nominee, Is No Friend to Net Neutrality\",\n",
       "  'Brett Kavanaugh Has Shown Deep Skepticism of Regulatory State'],\n",
       " ['Thai boys rescued from a cave have seen their family through glass windows and will need to stay in hospital for at least 1 week',\n",
       "  'Cave divers ready to rescue last five',\n",
       "  \"Elon Musk sends an 'escape pod' to help in Thailand cave rescue\",\n",
       "  'Thai cave rescue: Divers prepare to resume phase 3  -- live updates',\n",
       "  'Thai Cave Rescue: Divers Make Final Push to Save Remaining Boys, Coach',\n",
       "  \"Rescuers begin 'challenging' final push to free last five from Thai cave\",\n",
       "  'Cave rescue enters day three',\n",
       "  \"Last five trapped in Thai cave will be brought out 'at the same time': rescue chief\",\n",
       "  \"'No kid has cave dived like this before'\"],\n",
       " ['Boris goes',\n",
       "  'May Fights to Contain Brexit Crisis After Key Ministers Quit',\n",
       "  'Theresa May ploughs on toward Brexit after resignations compound turmoil',\n",
       "  \"PM's new cabinet to meet amid Brexit turmoil\",\n",
       "  'Resignations Over May’s Brexit Plan Throw U.K. Government Into Turmoil',\n",
       "  'Meet Dominic Raab: the new Brexit boss',\n",
       "  'Boris Johnson quits as pressure on Theresa May mounts',\n",
       "  'PM to meet new cabinet amid Brexit turmoil',\n",
       "  'Theresa May now faces the second Battle of Brexit'],\n",
       " ['Microsoft Debuts $399 Surface Go Tablet, Taking on Cheaper iPads',\n",
       "  \"Microsoft's $399 Surface Go hits most of the right notes to compete with the iPad and Chromebooks\",\n",
       "  'Microsoft - Surface Go - A device whose sole aim is to advance the adoption of Office.'],\n",
       " ['Trump Might Be Right About NATO—but for All the Wrong Reasons',\n",
       "  'NATO Can Be Viable With or Without the U.S.'],\n",
       " ['TD Bank speeds up junior bankers’ promotions to attract and keep young talent',\n",
       "  \"TD Speeds Up Junior Bankers' Promotions to Attract Young Talent\"],\n",
       " ['‘I would put money on it’: LNG Canada dreams closer to coming true as Shell ramps up in Kitimat',\n",
       "  'Shell Ramps Up in Kitimat, Raising Canada’s $30 Billion LNG Hopes'],\n",
       " ['Myanmar court files secrets act charges against Reuters reporters',\n",
       "  'Factbox: International reaction to charges against Reuters reporters in Myanmar'],\n",
       " ['‘Big four’ paid millions to advise Brussels on tax policy'],\n",
       " ['Tesla hikes prices in China as trade war hits carmakers',\n",
       "  'American steaks, German cars emerge as early victims in U.S.-China trade war'],\n",
       " ['Amazon is increasingly tying Whole Foods to its Prime service – and it could be the gateway to $1 trillion',\n",
       "  'Amazon as a value stock?: Why the $840-billion company’s shares are surprisingly cheap'],\n",
       " ['Son Has a Plan for Yahoo Japan. It Begins With D'],\n",
       " ['Germany Blames the Hedge Fund Locusts Again'],\n",
       " ['Luxury-Home Sales Plunge in Pricey Canada Markets as Rules Bite'],\n",
       " ['Mueller Seeks to Bar Manafort ‘Selective Prosecution’ Argument'],\n",
       " ['Alberta Premier Says Province Likely to Buy Trans Mountain Stake'],\n",
       " ['Asia shares ease as trade war fears return, pound bewildered by politics'],\n",
       " ['Takeda gets key U.S. regulatory approval to buy Shire'],\n",
       " ['Judge rejects Trump request for long-term detention of immigrant children'],\n",
       " ['Fox prepares new Sky offer to outbid Comcast'],\n",
       " ['Erdogan names son-in-law to lead Turkey’s finance ministry'],\n",
       " ['Poland refuses more concessions on judicial reform despite EU ire'],\n",
       " ['Germany heads for political dogfight over replacing the Tornado'],\n",
       " ['Trump and Putin: inside the muddled American policy on Russia'],\n",
       " ['What are “predatory” academic journals?'],\n",
       " ['London has excellent universities—but unhappy students'],\n",
       " ['Our second week of essays on transgender identities'],\n",
       " ['Jean-Louis Tauran opposed the Gulf war and mended fences with Islam'],\n",
       " ['Why bitcoin uses so much energy'],\n",
       " ['A court with a solid conservative majority could reshape American life'],\n",
       " ['From dusty villages to Delhi, Indians seek people to persecute'],\n",
       " ['Our essay competitions for young people'],\n",
       " ['Former Goldman Banker Is in Plea Talks Over Malaysian 1MDB Scandal'],\n",
       " ['Billionaire’s Secret Buyout Formula: 110 Instructions and an Intelligence Test'],\n",
       " ['US withdrawal from Paris agreement may set back financing climate change: Former UN chief Ban Ki-moon'],\n",
       " ['China’s economic reform is falling short — and patience is growing thin, says EU report'],\n",
       " ['NATO, the Queen, Putin and some golf – Trump has a busy week coming up'],\n",
       " ['Fearful of allergies, Southwest will stop serving peanuts on board'],\n",
       " [\"These senators will make or break Trump's Supreme Court nominee\"],\n",
       " ['CSA maps out higher-tech surveillance plan'],\n",
       " ['Canadian broadcasting industry shrank in 2017, CRTC reports'],\n",
       " ['One billion share issuance weighs on Enbridge'],\n",
       " ['Barrick forges closer ties with Chinese partner in bid to revive South American mine'],\n",
       " ['Cannabis grower Tilray valued at up to US$1.5 billion for Nasdaq IPO'],\n",
       " ['Greyhound Canada to end service in Prairies, B.C., eliminating 415 jobs — and leaving small towns in the lurch'],\n",
       " ['BARCLAYS: Here are the 4 biggest risks to the Netflix story (NFLX)'],\n",
       " [\"'This next year will ... feel like childbirth': HBO's new corporate overlord warns employees to expect a tough year\"],\n",
       " [\"Trump's Supreme Court pick weighed in on 2 thorny issues that could be pertinent to the president\"],\n",
       " [\"BANK OF AMERICA: The stock market's most important driver will be more powerful than we'd expected — and one sector towers over the rest\"],\n",
       " ['Expanding Warren Buffett’s value investing approach to the socially responsible sector'],\n",
       " ['The cruel truth about how much money two founders will likely get after selling their startup for $465 million reveals the catch-22 of raising too much money'],\n",
       " [\"'Either it happens or TV gets decimated': Insiders are split on AT&T's chances of building an ad platform for the entire TV industry\"],\n",
       " ['ASX falls on financials as Macquarie pressures big four banks'],\n",
       " ['Will great US earnings be good enough?'],\n",
       " ['Australian Energy Regulator strips $2 billion in revenue off energy network companies'],\n",
       " ['Television executive Sam Chisholm dead, aged 78'],\n",
       " ['Lenders blitz borrowers in cut-throat pricing battle to grab market share'],\n",
       " ['Village Roadshow wants to put Dreamworld disaster behind it with capital raising'],\n",
       " ['Shares help turn wage slaves into Rich Bosses'],\n",
       " ['Honeymooning couple collide in fatal zip line accident'],\n",
       " ['Prosecutor who reportedly suggested Maxine Waters be shot is placed on leave'],\n",
       " ['More than 50 separated children to be reunited with parents Tuesday'],\n",
       " [\"'Miracle' baby found safe in Montana forest after being buried alive\"],\n",
       " ['U.S. effort to weaken an international breast-feeding resolution has a long history'],\n",
       " ['IHOb No More: IHOP Says Its Burger-Rebranding Was Just a Gimmick'],\n",
       " ['Another Crypto Fail: Hackers Steal $23.5 Million from Token Service Bancor'],\n",
       " ['This Irish Bill Could Create Huge Problems for U.S. Companies Like Apple'],\n",
       " ['Mobile Health Apps Get An FDA Push'],\n",
       " ['Babies Given Solid Foods Sooner May Sleep Better, Study Shows'],\n",
       " ['Here’s What the World’s Biggest Investor Thinks the Markets Will Do Next'],\n",
       " ['Magazine | Fortune'],\n",
       " [\"World's 'oldest biological colours' found\"],\n",
       " [\"Dissident's widow 'allowed to leave China'\"],\n",
       " ['At least 126 dead as heavy rains hit Japan'],\n",
       " ['Starbucks says goodbye to plastic straws'],\n",
       " ['Migrant toddlers face US courts alone']]"
      ]
     },
     "execution_count": 13,
     "metadata": {},
     "output_type": "execute_result"
    }
   ],
   "source": [
    "clusters"
   ]
  },
  {
   "cell_type": "code",
   "execution_count": 14,
   "metadata": {},
   "outputs": [],
   "source": [
    "current_time = datetime.datetime.now().strftime(\"%Y%m%d_%H%M%S\")\n",
    "df.to_csv('data/{}_input-parameter-('.format(current_time) + str(parameter) + ').csv', sep=',', encoding='utf-8', index=False)\n",
    "\n",
    "clusters_df = pd.DataFrame(clusters, columns = range(1, len(clusters[0])+1))\n",
    "clusters_df.to_csv('data/{}_output-parameter-('.format(current_time) + str(parameter) + ').csv', sep=',', encoding='utf-8', index=False)"
   ]
  },
  {
   "cell_type": "code",
   "execution_count": null,
   "metadata": {},
   "outputs": [],
   "source": []
  }
 ],
 "metadata": {
  "kernelspec": {
   "display_name": "Python 3",
   "language": "python",
   "name": "python3"
  },
  "language_info": {
   "codemirror_mode": {
    "name": "ipython",
    "version": 3
   },
   "file_extension": ".py",
   "mimetype": "text/x-python",
   "name": "python",
   "nbconvert_exporter": "python",
   "pygments_lexer": "ipython3",
   "version": "3.6.1"
  }
 },
 "nbformat": 4,
 "nbformat_minor": 2
}
