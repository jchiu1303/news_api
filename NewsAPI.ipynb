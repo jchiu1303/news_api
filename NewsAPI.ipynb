{
 "cells": [
  {
   "cell_type": "markdown",
   "metadata": {},
   "source": [
    "### Code to Extract Title, Description, and URL from API"
   ]
  },
  {
   "cell_type": "code",
   "execution_count": 1,
   "metadata": {},
   "outputs": [
    {
     "name": "stdout",
     "output_type": "stream",
     "text": [
      "Wall time: 1.62 s\n"
     ]
    }
   ],
   "source": [
    "%%time\n",
    "\n",
    "import os\n",
    "import requests\n",
    "import pandas as pd\n",
    "import numpy as np\n",
    "import datetime\n",
    "from nltk.tag import StanfordNERTagger\n",
    "\n",
    "\n",
    "# import sys # import \n",
    "# !{sys.executable} -m pip install polyglot\n",
    "# nltk.download('words')"
   ]
  },
  {
   "cell_type": "code",
   "execution_count": 2,
   "metadata": {},
   "outputs": [],
   "source": [
    "news = [\n",
    "        'bloomberg', 'reuters', 'financial-times',\n",
    "        'the-economist', 'the-wall-street-journal', 'cnbc',\n",
    "        'financial-post', 'business-insider', 'australian-financial-review',\n",
    "        'google-news', 'fortune', 'bbc-news',\n",
    "        ]"
   ]
  },
  {
   "cell_type": "code",
   "execution_count": 3,
   "metadata": {},
   "outputs": [
    {
     "name": "stdout",
     "output_type": "stream",
     "text": [
      "Wall time: 14.7 s\n"
     ]
    }
   ],
   "source": [
    "%%time\n",
    "\n",
    "news_d = {}\n",
    "\n",
    "for i in news:\n",
    "    \n",
    "    \"\"\"\n",
    "    Reads in the API request of the top headlines to clean the JSON data to only return the source, title, and description\n",
    "    \"\"\"\n",
    "    \n",
    "    url = ('https://newsapi.org/v2/top-headlines?'\n",
    "           'sources=' + i + '&'\n",
    "           'apiKey=ddcb36b8f0d645b0acd4a54ef804a9fe')\n",
    "    \n",
    "    response = requests.get(url)\n",
    "    \n",
    "    news_d[i] = []\n",
    "    \n",
    "    for x in range(0, len(response.json()['articles'])):\n",
    "        article_title = response.json()['articles'][x]['title']\n",
    "        article_description = response.json()['articles'][x]['description']\n",
    "        \n",
    "        news_d[i].append({'title': article_title, 'description': article_description})"
   ]
  },
  {
   "cell_type": "code",
   "execution_count": 4,
   "metadata": {},
   "outputs": [
    {
     "name": "stdout",
     "output_type": "stream",
     "text": [
      "Wall time: 0 ns\n"
     ]
    }
   ],
   "source": [
    "%%time\n",
    "\n",
    "def create_d(dictionary):\n",
    "    source_list = [] \n",
    "    title_list = []\n",
    "    description_list = []\n",
    "    \n",
    "    \"\"\"\n",
    "    Takes in the cleaned news dictionary to turn it into an acceptable format for pandas.\n",
    "    1. Check if there are any news articles for that selected news site.\n",
    "    2. Appends the source (e.g. bloomberg) then the article's title and description to the above list\n",
    "    \"\"\"\n",
    "\n",
    "    for i in news_d:\n",
    "        if bool(news_d[i]):\n",
    "            \n",
    "            for x in range(0, len(news_d[i])):\n",
    "                source_list.append(i)\n",
    "                title_list.append(news_d[i][x]['title'])\n",
    "                description_list.append(news_d[i][x]['description'])\n",
    "    \n",
    "    d = {'source': source_list,\n",
    "         'title': title_list,\n",
    "         'description': description_list,\n",
    "        }\n",
    "    \n",
    "    return d"
   ]
  },
  {
   "cell_type": "code",
   "execution_count": 5,
   "metadata": {},
   "outputs": [
    {
     "name": "stdout",
     "output_type": "stream",
     "text": [
      "Wall time: 2 ms\n"
     ]
    }
   ],
   "source": [
    "%%time\n",
    "\n",
    "data = create_d(news_d)\n",
    "df = pd.DataFrame(data=data)\n",
    "df = df[['source', 'title', 'description']]"
   ]
  },
  {
   "cell_type": "markdown",
   "metadata": {},
   "source": [
    "## AI Attempt\n",
    "\n",
    "Reference to the following blog:\n",
    "http://blog.chartbeat.com/2015/10/22/identifying-and-clustering-news-events-by-content/\n",
    "\n",
    "And also reference to Jose Portilla's Natural Language Processing course in his Python for Data Science and Machine Learning Bootcamp Course on Udemy:\n",
    "https://www.udemy.com/python-for-data-science-and-machine-learning-bootcamp/"
   ]
  },
  {
   "cell_type": "code",
   "execution_count": 6,
   "metadata": {},
   "outputs": [
    {
     "name": "stdout",
     "output_type": "stream",
     "text": [
      "Wall time: 0 ns\n"
     ]
    }
   ],
   "source": [
    "%%time\n",
    "\n",
    "import string\n",
    "from nltk.corpus import stopwords"
   ]
  },
  {
   "cell_type": "code",
   "execution_count": 7,
   "metadata": {},
   "outputs": [
    {
     "name": "stdout",
     "output_type": "stream",
     "text": [
      "Wall time: 0 ns\n"
     ]
    }
   ],
   "source": [
    "%%time\n",
    "\n",
    "def text_process(mess):\n",
    "    \"\"\"\n",
    "    Takes in a string of text, then performs the following:\n",
    "    1. Remove all punctuation\n",
    "    2. Remove all stopwords\n",
    "    3. Returns a list of the cleaned text\n",
    "    \"\"\"\n",
    "    \n",
    "    # Check if the cell has characters inside\n",
    "    if mess is not None:\n",
    "\n",
    "        # Check characters to see if they are in punctuation\n",
    "        nohyph = mess.replace('-', ' ')\n",
    "        nopunc = nohyph.replace(\"’s\", ' ')\n",
    "        nopunc = nopunc.replace(\"’\", ' ')\n",
    "        nopunc = nopunc.replace(\"‘\", ' ')\n",
    "        nopunc = [char for char in nopunc if char not in string.punctuation]\n",
    "        \n",
    "\n",
    "\n",
    "        # Join the characters again to form the string.\n",
    "        nopunc = ''.join(nopunc)\n",
    "\n",
    "        # Now just remove any stopwords\n",
    "        word_list = [word for word in nopunc.split() if word.lower() not in stopwords.words('english')]\n",
    "        \n",
    "        return ' '.join(word_list)"
   ]
  },
  {
   "cell_type": "markdown",
   "metadata": {},
   "source": [
    "## TF-IDF"
   ]
  },
  {
   "cell_type": "code",
   "execution_count": 8,
   "metadata": {},
   "outputs": [
    {
     "name": "stdout",
     "output_type": "stream",
     "text": [
      "Wall time: 0 ns\n"
     ]
    }
   ],
   "source": [
    "%%time\n",
    "\n",
    "from sklearn.feature_extraction.text import TfidfVectorizer\n",
    "from sklearn.metrics.pairwise import cosine_similarity"
   ]
  },
  {
   "cell_type": "code",
   "execution_count": 9,
   "metadata": {},
   "outputs": [
    {
     "name": "stdout",
     "output_type": "stream",
     "text": [
      "Wall time: 1.5 s\n"
     ]
    }
   ],
   "source": [
    "%%time\n",
    "\n",
    "df['details'] = df['title'].astype(str) + ' ' + df['description'].astype(str)\n",
    "df['details'] = df['details'].apply(text_process)"
   ]
  },
  {
   "cell_type": "code",
   "execution_count": 10,
   "metadata": {},
   "outputs": [
    {
     "name": "stdout",
     "output_type": "stream",
     "text": [
      "Wall time: 19 ms\n"
     ]
    }
   ],
   "source": [
    "%%time\n",
    "\n",
    "vectorizer = TfidfVectorizer(stop_words='english')\n",
    "X = vectorizer.fit_transform(df['details'])"
   ]
  },
  {
   "cell_type": "code",
   "execution_count": 11,
   "metadata": {},
   "outputs": [
    {
     "name": "stdout",
     "output_type": "stream",
     "text": [
      "Wall time: 9.98 ms\n"
     ]
    }
   ],
   "source": [
    "%%time\n",
    "parameter = 0.18\n",
    "\n",
    "sim = cosine_similarity(X)\n",
    "sim_matrix = pd.DataFrame(sim, columns = list(df['title']), index = list(df['title']))\n",
    "sim_matrix[sim_matrix >= parameter] = 1\n",
    "sim_matrix[sim_matrix < parameter] = 0\n",
    "sim_matrix = sim_matrix.reset_index()"
   ]
  },
  {
   "cell_type": "code",
   "execution_count": 12,
   "metadata": {},
   "outputs": [
    {
     "name": "stdout",
     "output_type": "stream",
     "text": [
      "Wall time: 422 ms\n"
     ]
    }
   ],
   "source": [
    "%%time\n",
    "\n",
    "clusters = []\n",
    "\n",
    "while len(sim_matrix) > 0:\n",
    "    summation = list(sim_matrix.sum(axis=1))\n",
    "    ind = summation.index(max(summation))\n",
    "\n",
    "    titles = list(sim_matrix.columns[(sim_matrix == 1).iloc[ind]])\n",
    "    index_title = sim_matrix['index'][ind]\n",
    "    titles.append(index_title)\n",
    "    titles = list(set(titles))\n",
    "    clusters.append(titles)\n",
    "\n",
    "    sim_matrix = sim_matrix.drop(titles, axis=1)\n",
    "    for title in titles:\n",
    "        sim_matrix = sim_matrix[sim_matrix['index'] != title]\n",
    "\n",
    "    sim_matrix = sim_matrix.reset_index(drop=True)"
   ]
  },
  {
   "cell_type": "code",
   "execution_count": 13,
   "metadata": {},
   "outputs": [
    {
     "data": {
      "text/plain": [
       "[[\"EU's Verhofstadt: Brexit talks must move on after UK minister quits\",\n",
       "  'Britain’s new Brexit plan is savaged—by its own Brexit secretary',\n",
       "  'The UK’s Brexit secretary just walked away from the job. Here’s what that means',\n",
       "  'David Davis, U.K. Minister in Charge of Brexit Negotiations, Resigns',\n",
       "  \"Denouncing 'dangerous strategy', Brexit minister quits in blow to May\",\n",
       "  'UK government in disarray as Davis resigns as Brexit secretary',\n",
       "  \"David Davis resigns as UK Brexit Secretary over May's EU plan\",\n",
       "  \"Factbox: How could Britain's Prime Minister Theresa May be removed from office?\",\n",
       "  'British PM May appoints Dominic Raab as new Brexit minister',\n",
       "  'UK Brexit minister Braverman has not resigned in protest: official'],\n",
       " ['Thai boys in flooded cave wait for rescue mission to restart after first four are freed',\n",
       "  'Rescuers carry person on stretcher to ambulance from Thai cave: Reuters witness',\n",
       "  'Thai Rescuers Race to Rescue Remaining Boys Trapped in Flooded Cave',\n",
       "  'Thai cave rescue: Operation set to resume  -- live updates',\n",
       "  'Rescue divers have gone back into the Thai caves to rescue the 8 boys still trapped inside',\n",
       "  'Operation resumes to rescue boys trapped in flooded Thai cave'],\n",
       " ['A court with a solid conservative majority could reshape American life',\n",
       "  'Trump Making Supreme Court Pick to Cement Conservative Majority',\n",
       "  'Trump to Name Supreme Court Nominee: What to Watch',\n",
       "  \"Democrats are tying Trump's Supreme Court pick to the special counsel's Russia probe. Here's why\",\n",
       "  'Trump Takes a Final Look at Supreme Court Choices'],\n",
       " ['Canada should be embarrassed: Trudeau needs to smarten up on defence and pay our share to NATO',\n",
       "  'Canada Strikes Back at Trump, and Condo Buyers Will Pay the Price',\n",
       "  'Trudeau Says Nothing ‘Untoward’ Led to Past Groping Allegation'],\n",
       " ['JPMorgan Maps Out Currencies to Buy If a Recession Is Coming',\n",
       "  \"CITI: A 'full-on global bear market' is coming — here's where to put your money until it arrives\"],\n",
       " ['North Korea Reminds Trump Its Nuclear Weapons Won’t Come Cheap',\n",
       "  'North Korea presents nuclear disarmament’s biggest challenge yet'],\n",
       " ['Chinese Smartphone Maker Xiaomi Falls in Hong Kong Trading Debut',\n",
       "  'Shares of Chinese smartphone maker Xiaomi open for trade below IPO price'],\n",
       " ['Expect a ripple effect on oil prices: Boots-on-the-ground analyst says Syncrude won’t return to full capacity by August',\n",
       "  'Oil is likely to jump another 10 percent this summer, energy expert Tom Kloza predicts'],\n",
       " [\"Brexit Brouhaha Can't Beat Dollar Weakness\"],\n",
       " ['Amazon as a Value Stock? Believe It'],\n",
       " ['Dreams of Goldman Doing Big Takeover Meet Stress Test’s Reality'],\n",
       " ['Canada’s Labor Force Grows Most in 6 Years, Raising Jobless Rate'],\n",
       " ['What’s Next for Hotelier After Buying the Trump Toronto? America'],\n",
       " ['Global stocks hit two-week high as U.S. jobs report spreads relief'],\n",
       " ['Myanmar court presses secrets act charges against Reuters reporters'],\n",
       " ['UK woman dies after poisoning by Soviet-era nerve agent'],\n",
       " ['The careers adviser - how to ace an interview'],\n",
       " ['Trump-Putin face nuclear options at Helsinki summit'],\n",
       " ['‘A good living but a rough life’: trucker shortage holds US economy back'],\n",
       " ['US banks count on tax cut windfall to boost profits'],\n",
       " ['Apple slices into Spotify’s lead in US music market'],\n",
       " ['Italy’s debts to European Central Bank near €500bn'],\n",
       " ['BlackRock and Citi plan Paris expansion in Macron coup'],\n",
       " ['Yelp’s Jeremy Stoppelman on his Big Tech fightback'],\n",
       " ['Explainer: issues at the heart of May’s soft-Brexit Chequers deal'],\n",
       " ['Why bitcoin uses so much energy'],\n",
       " ['The boss of Pakistan’s ruling party is sentenced to ten years in jail'],\n",
       " ['Italy’s government proposes to limit fixed-term job contracts'],\n",
       " ['Tomorrow’s squadron leaders will be accompanied by drones'],\n",
       " ['Japan is finally starting to admit more foreign workers'],\n",
       " ['Culture and the labour market keep India’s women at home'],\n",
       " ['Transgender identities: a series of invited essays'],\n",
       " ['U.S. Exporters Will Be a Surprise Loser From Tariff Fight'],\n",
       " ['Central Banks Try to Bolster Their Currencies. It’s Not Always Working'],\n",
       " ['House Money: Wall Street Is Raising More Cash Than Ever for its Rental-Home Gambit'],\n",
       " ['Legacy Preferences Complicate Colleges’ Diversity Push'],\n",
       " ['When Three Brothers With a Blood Disorder Lost Their Jobs, the EEOC Sued'],\n",
       " ['Summit Looms for a Strained NATO Alliance'],\n",
       " ['Starbucks to ditch single-use plastic straws by 2020'],\n",
       " ['US futures climb ahead of the open, as trade turmoil takes a breather'],\n",
       " ['Consumer companies, desperate for growth, drove dealmaking to a 15-year high in 2017'],\n",
       " [\"Two nominees are now Trump's greatest focus for top court, NBC News says\"],\n",
       " ['Energy, technology sectors may put up blowout numbers when earnings season kicks off'],\n",
       " ['Why Poloz should pull the trigger on another rate hike'],\n",
       " ['Can Laurent Troger keep Bombardier’s rail division on the right track?'],\n",
       " ['‘Tsunami-like’ downturn: Autos tariffs could raise vehicle prices in Canada by $9,000'],\n",
       " ['Don’t be like Johnny. Don’t go broke with $650 million'],\n",
       " ['Lithium is exploding but Canada’s distance from China has miners at a disadvantage'],\n",
       " ['‘We are fighting against the system’: A $5.2-billion pipeline in Italy is being held up by 1,600 olive trees'],\n",
       " ['Woman juggling $500,000 in debts, less than $200,000 net worth fears she’s doomed to bleak retirement'],\n",
       " ['Five reasons the TSX is underperforming — again'],\n",
       " [\"Robin Wright finally spoke about Kevin Spacey: 'I didn't know the man'\"],\n",
       " [\"Google cofounder Sergey Brin went sailing in Ibiza with one of tech's most controversial figures\"],\n",
       " [\"Amazon's biggest strength is sometimes its weakness, says CEO who built $1 billion business while competing against Amazon\"],\n",
       " [\"There's a mountain of evidence that Trump's trade fights will be most harmful to the people who voted for him\"],\n",
       " ['Wall Street rejoices as Dell decides to leave VMware as an independent company, ending months of fear and doubt'],\n",
       " ['People love Sonos speakers so much they buy them again and again, but there are 2 big dealbreakers that could spoil its IPO'],\n",
       " [\"'Sorry to Bother You' is right — minorities are judged by the sound of their voice, and there's science to prove it\"],\n",
       " ['Super-Earths are real and they could be an even better place for life than Earth'],\n",
       " ['Deputy PM Michael McCormack warns MPs against killing off NEG over coal demands'],\n",
       " ['Monopolistic airports face price caps: Productivity Commission'],\n",
       " ['ASX starts the week higher, shrugging off tariff concerns'],\n",
       " ['China needs the global trade order, even if Donald Trump does not'],\n",
       " ['Legal start-up LawPath bags investment from US giant as growth rate soars'],\n",
       " ['James Packer resigns from Consolidated Press Holdings family board'],\n",
       " ['NAB, Bupa and KPMG force staff off sugar'],\n",
       " [\"Credit cards on the decline as Visa says we have passed 'peak plastic'\"],\n",
       " [\"Want a Tour de France-level bike? Here's what it will cost you.\"],\n",
       " [\"Andrew Brown's hedge fund East 72 and the global hunt for value\"],\n",
       " ['At least 100 dead in Japan after flooding and landslides'],\n",
       " ['Justin Bieber Meets Hailey Baldwin for the First Time in Resurfaced 2009 Clip'],\n",
       " ['Dissipated storm Beryl: Puerto Rico, Dominica still wary'],\n",
       " ['What If Trump Has Been a Russian Asset Since 1987?'],\n",
       " ['Bookstore owner defends calling police on woman who told Steve Bannon he was ‘a piece of trash’'],\n",
       " ['‘All gone in the blink of an eye’: Woman survives crash that killed her husband and 4 daughters'],\n",
       " ['U.S. Opposition to Breast-Feeding Resolution Stuns World Health Officials']]"
      ]
     },
     "execution_count": 13,
     "metadata": {},
     "output_type": "execute_result"
    }
   ],
   "source": [
    "clusters"
   ]
  },
  {
   "cell_type": "code",
   "execution_count": 14,
   "metadata": {},
   "outputs": [],
   "source": [
    "current_time = datetime.datetime.now().strftime(\"%Y%m%d_%H%M%S\")\n",
    "df.to_csv('data/{}_input-parameter-('.format(current_time) + str(parameter) + ').csv', sep=',', encoding='utf-8', index=False)\n",
    "\n",
    "clusters_df = pd.DataFrame(clusters, columns = range(1, len(clusters[0])+1))\n",
    "clusters_df.to_csv('data/{}_output-parameter-('.format(current_time) + str(parameter) + ').csv', sep=',', encoding='utf-8', index=False)"
   ]
  },
  {
   "cell_type": "code",
   "execution_count": null,
   "metadata": {},
   "outputs": [],
   "source": []
  }
 ],
 "metadata": {
  "kernelspec": {
   "display_name": "Python 3",
   "language": "python",
   "name": "python3"
  },
  "language_info": {
   "codemirror_mode": {
    "name": "ipython",
    "version": 3
   },
   "file_extension": ".py",
   "mimetype": "text/x-python",
   "name": "python",
   "nbconvert_exporter": "python",
   "pygments_lexer": "ipython3",
   "version": "3.6.1"
  }
 },
 "nbformat": 4,
 "nbformat_minor": 2
}
